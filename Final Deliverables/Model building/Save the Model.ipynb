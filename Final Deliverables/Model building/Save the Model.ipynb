{
 "cells": [
  {
   "cell_type": "code",
   "execution_count": null,
   "metadata": {
    "id": "DTE3QlVZlc1R"
   },
   "outputs": [],
   "source": [
    "#Importing the ImageDataGenerator Library"
   ]
  },
  {
   "cell_type": "code",
   "execution_count": null,
   "metadata": {
    "id": "6O32ACfWpGZm"
   },
   "outputs": [],
   "source": [
    "import keras\n",
    "from keras.preprocessing.image import ImageDataGenerator"
   ]
  },
  {
   "cell_type": "code",
   "execution_count": null,
   "metadata": {
    "id": "yXawAVFtlZP1"
   },
   "outputs": [],
   "source": [
    "#Define the parameters/arguments for ImageDataGenerator class"
   ]
  },
  {
   "cell_type": "code",
   "execution_count": null,
   "metadata": {
    "id": "Y6yPAmIN5p0o"
   },
   "outputs": [],
   "source": [
    "train_datagen = ImageDataGenerator(\n",
    "    rotation_range=180,\n",
    "    width_shift_range=0.2,\n",
    "    height_shift_range=0.2,\n",
    "    rescale=1./255,\n",
    "    shear_range=0.2,\n",
    "    zoom_range=0.2,\n",
    "    horizontal_flip=True,)\n",
    "test_datagen = ImageDataGenerator(rescale=1./255)"
   ]
  },
  {
   "cell_type": "code",
   "execution_count": null,
   "metadata": {
    "id": "j2dx8sX3lw7F"
   },
   "outputs": [],
   "source": [
    "#Applying ImageDataGenerator functionality to trainset"
   ]
  },
  {
   "cell_type": "code",
   "execution_count": null,
   "metadata": {
    "colab": {
     "base_uri": "https://localhost:8080/"
    },
    "id": "Wy-nmL9ozA52",
    "outputId": "5ac9e7bb-7dbe-4f03-dfb6-699f6d1b95b1"
   },
   "outputs": [
    {
     "name": "stdout",
     "output_type": "stream",
     "text": [
      "Found 436 images belonging to 2 classes.\n"
     ]
    }
   ],
   "source": [
    "x_train=train_datagen.flow_from_directory('/content/drive/MyDrive/Dataset/Dataset/train_set',\n",
    "target_size=(128,128),batch_size=32,class_mode='binary')"
   ]
  },
  {
   "cell_type": "code",
   "execution_count": null,
   "metadata": {
    "id": "P-LuYb5_l4CE"
   },
   "outputs": [],
   "source": [
    "#Applying ImageDataGenerator functionality to testset"
   ]
  },
  {
   "cell_type": "code",
   "execution_count": null,
   "metadata": {
    "colab": {
     "base_uri": "https://localhost:8080/"
    },
    "id": "CGw0569PPx7p",
    "outputId": "b39cea98-2bb6-45e6-ed84-e790a0de5ee0"
   },
   "outputs": [
    {
     "name": "stdout",
     "output_type": "stream",
     "text": [
      "Found 118 images belonging to 2 classes.\n"
     ]
    }
   ],
   "source": [
    "x_test=test_datagen.flow_from_directory('/content/drive/MyDrive/Dataset/Dataset/test_set',\n",
    "target_size=(128,128),batch_size=32,class_mode='binary')"
   ]
  },
  {
   "cell_type": "code",
   "execution_count": null,
   "metadata": {
    "id": "VDnZZ_S7gc-B"
   },
   "outputs": [],
   "source": [
    "#importing the model building libraries "
   ]
  },
  {
   "cell_type": "code",
   "execution_count": null,
   "metadata": {
    "id": "xeZrC4eIgtk6"
   },
   "outputs": [],
   "source": [
    "#To define linear intialisation import Sequential \n",
    "from keras.models import Sequential\n",
    "#To add layers import Dense\n",
    "from keras.layers import Dense\n",
    "#To creat Convolution kernal import Convolution2D\n",
    "from keras.layers import Convolution2D\n",
    "#import Maxpooling layer\n",
    "from keras.layers import MaxPooling2D\n",
    "#import Flatten layer\n",
    "from keras.layers import Flatten\n",
    "import warnings\n",
    "warnings.filterwarnings('ignore')\n"
   ]
  },
  {
   "cell_type": "code",
   "execution_count": null,
   "metadata": {
    "id": "j98t0VNtkHs_"
   },
   "outputs": [],
   "source": [
    "#initializing the model\n",
    "model=Sequential()"
   ]
  },
  {
   "cell_type": "code",
   "execution_count": null,
   "metadata": {
    "id": "M8FccPgqkylJ"
   },
   "outputs": [],
   "source": [
    "#Adding CNN layers"
   ]
  },
  {
   "cell_type": "code",
   "execution_count": null,
   "metadata": {
    "id": "55EPOqiklG5a"
   },
   "outputs": [],
   "source": [
    "#add convolutional layer \n",
    "model.add(Convolution2D(32,(3,3),input_shape=(128,128,3),activation='relu'))\n",
    "#add maxpooling layer \n",
    "model.add(MaxPooling2D(pool_size=(2,2)))\n",
    "#add flatten layer\n",
    "model.add(Flatten())"
   ]
  },
  {
   "cell_type": "code",
   "execution_count": null,
   "metadata": {
    "id": "qGKGxwDEnHdM"
   },
   "outputs": [],
   "source": [
    "#Adding Dense Layers"
   ]
  },
  {
   "cell_type": "code",
   "execution_count": null,
   "metadata": {
    "id": "yyc_rls-nlVn"
   },
   "outputs": [],
   "source": [
    "#add hidden layer\n",
    "model.add(Dense(150,activation='relu'))\n",
    "#add output Layer\n",
    "model.add(Dense(1,activation='sigmoid'))"
   ]
  },
  {
   "cell_type": "code",
   "execution_count": null,
   "metadata": {
    "id": "Ot56VvmtT7nu"
   },
   "outputs": [],
   "source": [
    "#configuring the learning process\n",
    "model.compile(loss='binary_crossentropy',optimizer=\"adam\",metrics=[\"accuracy\"])"
   ]
  },
  {
   "cell_type": "code",
   "execution_count": null,
   "metadata": {
    "colab": {
     "base_uri": "https://localhost:8080/"
    },
    "id": "l4OfmoegWcst",
    "outputId": "ea6079c5-d63d-47e0-acea-92a400feabe5"
   },
   "outputs": [
    {
     "name": "stdout",
     "output_type": "stream",
     "text": [
      "Epoch 1/10\n",
      "14/14 [==============================] - 127s 9s/step - loss: 4.2357 - accuracy: 0.5894 - val_loss: 0.2398 - val_accuracy: 0.9237\n",
      "Epoch 2/10\n",
      "14/14 [==============================] - 25s 2s/step - loss: 0.7162 - accuracy: 0.8028 - val_loss: 0.0956 - val_accuracy: 0.9661\n",
      "Epoch 3/10\n",
      "14/14 [==============================] - 25s 2s/step - loss: 0.2315 - accuracy: 0.8968 - val_loss: 0.1217 - val_accuracy: 0.9746\n",
      "Epoch 4/10\n",
      "14/14 [==============================] - 25s 2s/step - loss: 0.2154 - accuracy: 0.9174 - val_loss: 0.1401 - val_accuracy: 0.9576\n",
      "Epoch 5/10\n",
      "14/14 [==============================] - 25s 2s/step - loss: 0.1930 - accuracy: 0.9243 - val_loss: 0.0944 - val_accuracy: 0.9746\n",
      "Epoch 6/10\n",
      "14/14 [==============================] - 27s 2s/step - loss: 0.1905 - accuracy: 0.9197 - val_loss: 0.0837 - val_accuracy: 0.9831\n",
      "Epoch 7/10\n",
      "14/14 [==============================] - 25s 2s/step - loss: 0.1899 - accuracy: 0.9037 - val_loss: 0.0786 - val_accuracy: 0.9831\n",
      "Epoch 8/10\n",
      "14/14 [==============================] - 25s 2s/step - loss: 0.1908 - accuracy: 0.9220 - val_loss: 0.0782 - val_accuracy: 0.9746\n"
     ]
    },
    {
     "data": {
      "text/plain": [
       "<keras.callbacks.History at 0x7f7eb15efc90>"
      ]
     },
     "execution_count": 18,
     "metadata": {},
     "output_type": "execute_result"
    }
   ],
   "source": [
    "#Training the model\n",
    "model.fit_generator(x_train,steps_per_epoch=14,epochs=10,validation_data=x_test,validation_steps=4)"
   ]
  },
  {
   "cell_type": "code",
   "execution_count": 18,
   "metadata": {
    "id": "BTN__5fGY1Hf"
   },
   "outputs": [],
   "source": [
    "#save the model\n",
    "model.save(\"forest1.h5\")\n"
   ]
  }
 ],
 "metadata": {
  "colab": {
   "collapsed_sections": [],
   "provenance": []
  },
  "kernelspec": {
   "display_name": "Python 3 (ipykernel)",
   "language": "python",
   "name": "python3"
  },
  "language_info": {
   "codemirror_mode": {
    "name": "ipython",
    "version": 3
   },
   "file_extension": ".py",
   "mimetype": "text/x-python",
   "name": "python",
   "nbconvert_exporter": "python",
   "pygments_lexer": "ipython3",
   "version": "3.9.13"
  }
 },
 "nbformat": 4,
 "nbformat_minor": 1
}
